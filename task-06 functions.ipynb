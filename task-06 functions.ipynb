{
 "cells": [
  {
   "cell_type": "code",
   "execution_count": null,
   "metadata": {},
   "outputs": [],
   "source": [
    "def send_confirmation_email() :\n",
    "    #smtlib is used to send the mails \n",
    "    # here i am using decouple library to import env.variables\n",
    "    import smtplib \n",
    "    import os\n",
    "    from decouple import config\n",
    "    \n",
    "    #i am retrieving my email id and password from env.variable which i have been saved by making .env file\n",
    "    \n",
    "    email = config('EMAIL_KRRISH')\n",
    "    password =config('EMAIL_PASS')\n",
    "    \n",
    "    #here we need to know which email we are using ex. gmail\n",
    "    #we providing port number of the server and it is fix\n",
    "    \n",
    "    server=smtplib.SMTP('smtp.gmail.com' ,587)\n",
    "    \n",
    "    #transfer layer security : tls\n",
    "    server.starttls()\n",
    "    \n",
    "    #we need to login to our email_id\n",
    "    \n",
    "    server.login(email , password)\n",
    "    server.sendmail(email,'krrishdigole@gmail.com','your face has been detected and confirmed')\n",
    "    "
   ]
  },
  {
   "cell_type": "code",
   "execution_count": null,
   "metadata": {},
   "outputs": [],
   "source": [
    "def send_alert_email() :\n",
    "    #smtlib is used to send the mails \n",
    "    # here i am using decouple library to import env.variables\n",
    "    import smtplib \n",
    "    import os\n",
    "    from decouple import config\n",
    "    \n",
    "    #i am retrieving my email id and password from env.variable which i have been saved by making .env file\n",
    "    \n",
    "    email = config('EMAIL_KRRISH')\n",
    "    password =config('EMAIL_PASS')\n",
    "    \n",
    "    #here we need to know which email we are using ex. gmail\n",
    "    #we providing port number of the server and it is fix\n",
    "    \n",
    "    server=smtplib.SMTP('smtp.gmail.com' ,587)\n",
    "    \n",
    "    #transfer layer security : tls\n",
    "    server.starttls()\n",
    "    \n",
    "    #we need to login to our email_id\n",
    "    \n",
    "    server.login(email , password)\n",
    "    server.sendmail(email,'krrishdigole@gmail.com','ALERT! : UNKNOWN PERSON DETECTED')\n",
    "    "
   ]
  },
  {
   "cell_type": "code",
   "execution_count": 3,
   "metadata": {},
   "outputs": [],
   "source": [
    "def send_whatsapp_msg() :\n",
    "    from twilio.rest import Client\n",
    "    from decouple import config\n",
    "    \n",
    "    sid = config('TWILIO_ACCOUNT_SID')\n",
    "    token = config('TWILIO_AUTH_TOKEN')\n",
    "    client = Client(sid , token)\n",
    "    my_number = config('WTSAPP_NUMBER')\n",
    "    twilio_number = config('TWILIO_NUMBER')\n",
    "    client.messages.create(body='CONFIRMED! : HE IS KRRISH',\n",
    "                       from_=twilio_number,\n",
    "                       to=my_number)\n",
    "    "
   ]
  },
  {
   "cell_type": "code",
   "execution_count": 11,
   "metadata": {},
   "outputs": [],
   "source": [
    "def send_SMS() :\n",
    "    from twilio.rest import Client\n",
    "    from decouple import config\n",
    "    \n",
    "    sid = config('TWILIO_ACCOUNT_SID')\n",
    "    token = config('TWILIO_AUTH_TOKEN')\n",
    "    client = Client(sid , token)\n",
    "    my_number = config('MY_NUMBER')\n",
    "    twilio_number = config('PROVIDED_NUMBER')\n",
    "    client.messages.create(body=' CONFIRMED! \\n : HE IS KRRISH',\n",
    "                       from_=twilio_number,\n",
    "                       to=my_number)\n",
    "    "
   ]
  },
  {
   "cell_type": "code",
   "execution_count": 13,
   "metadata": {},
   "outputs": [],
   "source": [
    "send_SMS()"
   ]
  },
  {
   "cell_type": "code",
   "execution_count": null,
   "metadata": {},
   "outputs": [],
   "source": []
  },
  {
   "cell_type": "code",
   "execution_count": null,
   "metadata": {},
   "outputs": [],
   "source": []
  },
  {
   "cell_type": "code",
   "execution_count": 4,
   "metadata": {},
   "outputs": [],
   "source": [
    "send_whatsapp_msg()"
   ]
  },
  {
   "cell_type": "code",
   "execution_count": 1,
   "metadata": {},
   "outputs": [],
   "source": [
    "from decouple import config"
   ]
  },
  {
   "cell_type": "code",
   "execution_count": 2,
   "metadata": {},
   "outputs": [],
   "source": [
    "sid = config('TWILIO_ACCOUNT_SID')"
   ]
  },
  {
   "cell_type": "code",
   "execution_count": null,
   "metadata": {},
   "outputs": [],
   "source": []
  }
 ],
 "metadata": {
  "kernelspec": {
   "display_name": "Python 3",
   "language": "python",
   "name": "python3"
  },
  "language_info": {
   "codemirror_mode": {
    "name": "ipython",
    "version": 3
   },
   "file_extension": ".py",
   "mimetype": "text/x-python",
   "name": "python",
   "nbconvert_exporter": "python",
   "pygments_lexer": "ipython3",
   "version": "3.8.5"
  }
 },
 "nbformat": 4,
 "nbformat_minor": 4
}
